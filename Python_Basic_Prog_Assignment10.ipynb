{
 "cells": [
  {
   "cell_type": "markdown",
   "metadata": {},
   "source": [
    "## Python Basic Programming Assignment 10"
   ]
  },
  {
   "cell_type": "markdown",
   "metadata": {},
   "source": [
    "**1. Write a Python program to find sum of elements in list?**"
   ]
  },
  {
   "cell_type": "code",
   "execution_count": 1,
   "metadata": {},
   "outputs": [
    {
     "name": "stdout",
     "output_type": "stream",
     "text": [
      "Enter the Size of List5\n",
      "Enter the  Elements in List \n",
      "1\n",
      "Enter the  Elements in List \n",
      "2\n",
      "Enter the  Elements in List \n",
      "3\n",
      "Enter the  Elements in List \n",
      "4\n",
      "Enter the  Elements in List \n",
      "5\n",
      "The Sum of elements of List is  15\n"
     ]
    }
   ],
   "source": [
    "n = int(input(\"Enter the Size of List \"))\n",
    "li = []\n",
    "for i in range(n):\n",
    "    print(\"Enter the  Elements in List \")\n",
    "    li.append(int(input()))\n",
    "print(\"The Sum of elements of List is \",sum(li))"
   ]
  },
  {
   "cell_type": "markdown",
   "metadata": {},
   "source": [
    "**2. Write a Python program to Multiply all numbers in the list?**"
   ]
  },
  {
   "cell_type": "code",
   "execution_count": 2,
   "metadata": {},
   "outputs": [
    {
     "name": "stdout",
     "output_type": "stream",
     "text": [
      "Enter the Size of List 5\n",
      "Enter the  Elements in List \n",
      "1\n",
      "Enter the  Elements in List \n",
      "2\n",
      "Enter the  Elements in List \n",
      "3\n",
      "Enter the  Elements in List \n",
      "4\n",
      "Enter the  Elements in List \n",
      "5\n",
      "The Product of Elements of List is  120\n"
     ]
    }
   ],
   "source": [
    "n = int(input(\"Enter the Size of List \"))\n",
    "li = []\n",
    "for i in range(n):\n",
    "    print(\"Enter the  Elements in List \")\n",
    "    li.append(int(input()))\n",
    "mul = 1\n",
    "for i in range(n):\n",
    "    mul = mul * li[i]\n",
    "    \n",
    "print(\"The Product of Elements of List is \", mul)    "
   ]
  },
  {
   "cell_type": "markdown",
   "metadata": {},
   "source": [
    "**3. Write a Python program to find smallest number in a list?**"
   ]
  },
  {
   "cell_type": "code",
   "execution_count": 3,
   "metadata": {},
   "outputs": [
    {
     "name": "stdout",
     "output_type": "stream",
     "text": [
      "Enter the Size of List 5\n",
      "Enter the  Elements in List \n",
      "1\n",
      "Enter the  Elements in List \n",
      "2\n",
      "Enter the  Elements in List \n",
      "3\n",
      "Enter the  Elements in List \n",
      "4\n",
      "Enter the  Elements in List \n",
      "5\n",
      "The Smallest Element of List is  1\n"
     ]
    }
   ],
   "source": [
    "n = int(input(\"Enter the Size of List \"))\n",
    "li = []\n",
    "for i in range(n):\n",
    "    print(\"Enter the  Elements in List \")\n",
    "    li.append(int(input()))\n",
    "print(\"The Smallest Element of List is \", min(li))"
   ]
  },
  {
   "cell_type": "markdown",
   "metadata": {},
   "source": [
    "**4. Write a Python program to find largest number in a list?**"
   ]
  },
  {
   "cell_type": "code",
   "execution_count": 4,
   "metadata": {},
   "outputs": [
    {
     "name": "stdout",
     "output_type": "stream",
     "text": [
      "Enter the Size of List 1\n",
      "Enter the  Elements in List \n",
      "3\n",
      "The Smallest Element of List is  3\n"
     ]
    }
   ],
   "source": [
    "n = int(input(\"Enter the Size of List \"))\n",
    "li = []\n",
    "for i in range(n):\n",
    "    print(\"Enter the  Elements in List \")\n",
    "    li.append(int(input()))\n",
    "print(\"The Smallest Element of List is \", max(li))"
   ]
  },
  {
   "cell_type": "markdown",
   "metadata": {},
   "source": [
    "**5. Write a Python program to find second largest number in a list?**"
   ]
  },
  {
   "cell_type": "code",
   "execution_count": 5,
   "metadata": {},
   "outputs": [
    {
     "name": "stdout",
     "output_type": "stream",
     "text": [
      "Enter the Size of List 5\n",
      "Enter the  Elements in List \n",
      "1\n",
      "Enter the  Elements in List \n",
      "2\n",
      "Enter the  Elements in List \n",
      "3\n",
      "Enter the  Elements in List \n",
      "4\n",
      "Enter the  Elements in List \n",
      "5\n",
      "Second largest element is: 4\n"
     ]
    }
   ],
   "source": [
    "n = int(input(\"Enter the Size of List \"))\n",
    "li = []\n",
    "for i in range(n):\n",
    "    print(\"Enter the  Elements in List \")\n",
    "    li.append(int(input()))\n",
    "print(\"Second largest element is:\", sorted(li)[-2])"
   ]
  },
  {
   "cell_type": "markdown",
   "metadata": {},
   "source": [
    "**6. Write a Python program to find N largest elements from a list?**"
   ]
  },
  {
   "cell_type": "code",
   "execution_count": 7,
   "metadata": {},
   "outputs": [
    {
     "name": "stdout",
     "output_type": "stream",
     "text": [
      "Enter the Size of List 5\n",
      "Enter the  Elements in List \n",
      "1\n",
      "Enter the  Elements in List \n",
      "2\n",
      "Enter the  Elements in List \n",
      "3\n",
      "Enter the  Elements in List \n",
      "4\n",
      "Enter the  Elements in List \n",
      "5\n",
      "Enter the Nth Element 3\n",
      "3  largest element is: 3\n"
     ]
    }
   ],
   "source": [
    "n = int(input(\"Enter the Size of List \"))\n",
    "li = []\n",
    "for i in range(n):\n",
    "    print(\"Enter the  Elements in List \")\n",
    "    li.append(int(input()))\n",
    "    \n",
    "i = int(input(\"Enter the Nth Element \"))\n",
    "print(i,\" largest element is:\", sorted(li)[-i])"
   ]
  },
  {
   "cell_type": "markdown",
   "metadata": {},
   "source": [
    "**7. Write a Python program to print even numbers in a list?**"
   ]
  },
  {
   "cell_type": "code",
   "execution_count": 8,
   "metadata": {},
   "outputs": [
    {
     "name": "stdout",
     "output_type": "stream",
     "text": [
      "Enter the Size of List 4\n",
      "Enter the  Elements in List \n",
      "1\n",
      "Enter the  Elements in List \n",
      "2\n",
      "Enter the  Elements in List \n",
      "3\n",
      "Enter the  Elements in List \n",
      "4\n",
      "All Even Numbers of List are: \n",
      "2\n",
      "4\n"
     ]
    }
   ],
   "source": [
    "n = int(input(\"Enter the Size of List \"))\n",
    "li = []\n",
    "for i in range(n):\n",
    "    print(\"Enter the  Elements in List \")\n",
    "    li.append(int(input()))\n",
    "print(\"All Even Numbers of List are: \")\n",
    "for i in li:\n",
    "    if i % 2 == 0:\n",
    "        print(i)"
   ]
  },
  {
   "cell_type": "markdown",
   "metadata": {},
   "source": [
    "**8. Write a Python program to print odd numbers in a List?**"
   ]
  },
  {
   "cell_type": "code",
   "execution_count": 9,
   "metadata": {},
   "outputs": [
    {
     "name": "stdout",
     "output_type": "stream",
     "text": [
      "Enter the Size of List 5\n",
      "Enter the  Elements in List \n",
      "1\n",
      "Enter the  Elements in List \n",
      "2\n",
      "Enter the  Elements in List \n",
      "3\n",
      "Enter the  Elements in List \n",
      "4\n",
      "Enter the  Elements in List \n",
      "5\n",
      "All Odd Numbers of List are: \n",
      "1\n",
      "3\n",
      "5\n"
     ]
    }
   ],
   "source": [
    "n = int(input(\"Enter the Size of List \"))\n",
    "li = []\n",
    "for i in range(n):\n",
    "    print(\"Enter the  Elements in List \")\n",
    "    li.append(int(input()))\n",
    "print(\"All Odd Numbers of List are: \")\n",
    "for i in li:\n",
    "    if i % 2 != 0:\n",
    "        print(i)"
   ]
  },
  {
   "cell_type": "markdown",
   "metadata": {},
   "source": [
    "**9. Write a Python program to Remove empty List from List?**"
   ]
  },
  {
   "cell_type": "code",
   "execution_count": 10,
   "metadata": {},
   "outputs": [
    {
     "name": "stdout",
     "output_type": "stream",
     "text": [
      "['abc', 'xyz', 'pqr']\n"
     ]
    }
   ],
   "source": [
    "list1 = [[], [], [], [], [], 'abc', 'xyz', [], 'pqr',[]]\n",
    "\n",
    "list2 = [x for x in list1 if x != []]\n",
    "print(list2)"
   ]
  },
  {
   "cell_type": "markdown",
   "metadata": {},
   "source": [
    "**10. Write a Python program to Cloning or Copying a list?**"
   ]
  },
  {
   "cell_type": "code",
   "execution_count": 11,
   "metadata": {},
   "outputs": [
    {
     "name": "stdout",
     "output_type": "stream",
     "text": [
      "Enter the Size of List 5\n",
      "Enter the  Elements in List \n",
      "1\n",
      "Enter the  Elements in List \n",
      "2\n",
      "Enter the  Elements in List \n",
      "3\n",
      "Enter the  Elements in List \n",
      "4\n",
      "Enter the  Elements in List \n",
      "5\n",
      "Original List: [1, 2, 3, 4, 5]\n",
      "After Cloning: [1, 2, 3, 4, 5]\n"
     ]
    }
   ],
   "source": [
    "def Cloning(li):\n",
    "    li_copy = li[:]\n",
    "    return li_copy\n",
    "   \n",
    "\n",
    "n = int(input(\"Enter the Size of List \"))\n",
    "li = []\n",
    "for i in range(n):\n",
    "    print(\"Enter the  Elements in List \")\n",
    "    li.append(int(input()))\n",
    "    \n",
    "li_copy = Cloning(li)\n",
    "print(\"Original List:\", li)\n",
    "print(\"After Cloning:\", li_copy)"
   ]
  },
  {
   "cell_type": "markdown",
   "metadata": {},
   "source": [
    "**11. Write a Python program to Count occurrences of an element in a list?**"
   ]
  },
  {
   "cell_type": "code",
   "execution_count": 12,
   "metadata": {},
   "outputs": [
    {
     "name": "stdout",
     "output_type": "stream",
     "text": [
      "Enter the Size of List 5\n",
      "Enter the  Elements in List \n",
      "1\n",
      "Enter the  Elements in List \n",
      "2\n",
      "Enter the  Elements in List \n",
      "3\n",
      "Enter the  Elements in List \n",
      "2\n",
      "Enter the  Elements in List \n",
      "1\n",
      "Enter the Element to find Occurence 1\n",
      "1 has occurred 2 times\n"
     ]
    }
   ],
   "source": [
    "def count(li, element):\n",
    "    count = 0\n",
    "    for ele in li:\n",
    "        if (ele == element):\n",
    "            count = count + 1\n",
    "    return count\n",
    " \n",
    "\n",
    "n = int(input(\"Enter the Size of List \"))\n",
    "li = []\n",
    "for i in range(n):\n",
    "    print(\"Enter the  Elements in List \")\n",
    "    li.append(int(input()))\n",
    "element = int(input(\"Enter the Element to find Occurence \"))\n",
    "print('{} has occurred {} times'.format(element, count(li, element)))"
   ]
  }
 ],
 "metadata": {
  "kernelspec": {
   "display_name": "Python 3",
   "language": "python",
   "name": "python3"
  },
  "language_info": {
   "codemirror_mode": {
    "name": "ipython",
    "version": 3
   },
   "file_extension": ".py",
   "mimetype": "text/x-python",
   "name": "python",
   "nbconvert_exporter": "python",
   "pygments_lexer": "ipython3",
   "version": "3.8.3"
  }
 },
 "nbformat": 4,
 "nbformat_minor": 4
}
